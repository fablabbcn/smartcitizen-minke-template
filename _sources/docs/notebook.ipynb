{
 "cells": [
  {
   "cell_type": "markdown",
   "metadata": {},
   "source": [
    "# Example data notebook\n",
    "\n",
    "Content in this page can be created by using Jupyter Notebooks. This means that you can write content very easily, embed images, HTML, etc into your posts!\n",
    "\n",
    "<div style=\"text-align:center\">\n",
    "<img src=\"https://live.staticflickr.com/65535/48992224646_bd32af64ae_k.jpg\" width=100%>\n",
    "</div>\n",
    "\n",
    "```{seealso}\n",
    "Check the documentation on the syntax in [here](https://jupyterbook.org/en/stable/content/index.html).\n",
    "```\n",
    "\n",
    "## Writing content\n",
    "\n",
    "The idea for this file is to serve as a data analysis recipe to reproduce your analysis. With both, code, outputs, and data, we can ensure that the findings are actually FAIR.\n",
    "Let's look at some examples!\n",
    "\n",
    "## Load data, plot, process, and export\n",
    "This example will load data from the SmartCitizen API, do some plots, and export it in CSV format"
   ]
  },
  {
   "cell_type": "code",
   "execution_count": null,
   "metadata": {
    "tags": [
     "remove-output"
    ]
   },
   "outputs": [],
   "source": [
    "# Import the Test data structure\n",
    "from scdata import Test"
   ]
  },
  {
   "cell_type": "markdown",
   "metadata": {},
   "source": [
    "We can set the framework to output verbose information, and set the rendering framework as jupyterlab"
   ]
  },
  {
   "cell_type": "code",
   "execution_count": null,
   "metadata": {},
   "outputs": [],
   "source": [
    "from scdata._config import config\n",
    "\n",
    "# Output levels:\n",
    "# 'QUIET': nothing, \n",
    "# 'NORMAL': warn, err\n",
    "# 'DEBUG': info, warn, err, success\n",
    "config._out_level='NORMAL' \n",
    "\n",
    "# This defaults to script'. If using it in jupyterlab, sets the plot renderers accordingly\n",
    "config._framework='jupyterlab'"
   ]
  },
  {
   "cell_type": "markdown",
   "metadata": {},
   "source": [
    "We can put the data in a test. A test is simply a handy way to group devices and process them"
   ]
  },
  {
   "cell_type": "code",
   "execution_count": null,
   "metadata": {
    "tags": [
     "hide-output"
    ]
   },
   "outputs": [],
   "source": [
    "test = Test('EXAMPLE_MINKE')"
   ]
  },
  {
   "cell_type": "markdown",
   "metadata": {},
   "source": [
    "Before adding devices to the test, we import the Device object:"
   ]
  },
  {
   "cell_type": "code",
   "execution_count": null,
   "metadata": {},
   "outputs": [],
   "source": [
    "from scdata import Device"
   ]
  },
  {
   "cell_type": "markdown",
   "metadata": {},
   "source": [
    "### Load SC API data"
   ]
  },
  {
   "cell_type": "code",
   "execution_count": null,
   "metadata": {
    "tags": [
     "hide-output"
    ]
   },
   "outputs": [],
   "source": [
    "# Add as many devices as needed. See understanding blueprints below for more info\n",
    "test.add_device(Device(blueprint = 'sc_21_station_module', descriptor = {'source': 'api', \n",
    "                                                                         'id': '14638',\n",
    "                                                                         'min_date': '2021-10-15',\n",
    "                                                                         'max_date': '2021-10-30'\n",
    "                                                             }\n",
    "                         )\n",
    "               )"
   ]
  },
  {
   "cell_type": "code",
   "execution_count": null,
   "metadata": {
    "tags": [
     "hide-output"
    ]
   },
   "outputs": [],
   "source": [
    "# Add as many devices as needed. See understanding blueprints below for more info\n",
    "test.add_device(Device(blueprint = 'sck_21', descriptor = {'source': 'api', \n",
    "                                                                         'id': '14735', \n",
    "                                                                         'max_date': '2022-02-15',\n",
    "                                                             }\n",
    "                         )\n",
    "               )"
   ]
  },
  {
   "cell_type": "markdown",
   "metadata": {},
   "source": [
    "The blueprint urls can be found at `~/.config/scdata/config.yaml` or here in:\n"
   ]
  },
  {
   "cell_type": "code",
   "execution_count": null,
   "metadata": {
    "tags": [
     "hide-output"
    ]
   },
   "outputs": [],
   "source": [
    "config.blueprints"
   ]
  },
  {
   "cell_type": "code",
   "execution_count": null,
   "metadata": {
    "tags": [
     "hide-output"
    ]
   },
   "outputs": [],
   "source": [
    "config.blueprints.keys()"
   ]
  },
  {
   "cell_type": "markdown",
   "metadata": {},
   "source": [
    "This is how you can add a csv device (from sdcard data or other). The raw data file is to be put in `~/.cache/scdata/raw`:"
   ]
  },
  {
   "cell_type": "markdown",
   "metadata": {},
   "source": [
    "### Load SD Card Data"
   ]
  },
  {
   "cell_type": "code",
   "execution_count": null,
   "metadata": {
    "tags": [
     "hide-output"
    ]
   },
   "outputs": [],
   "source": [
    "test.add_device(Device(blueprint = 'sck_21' , descriptor = {'source': 'csv',\n",
    "                                                                  'id': 'csv_device',\n",
    "                                                                  'raw_data_file': 'example.csv',\n",
    "                                                                  'frequency': '1Min',\n",
    "                                                                  'timezone': 'Europe/Madrid'\n",
    "                                                         }\n",
    "                     )\n",
    "           )"
   ]
  },
  {
   "cell_type": "markdown",
   "metadata": {},
   "source": [
    "This instruction will create the test folder structure, the description and anything needed to keep track of the data:"
   ]
  },
  {
   "cell_type": "code",
   "execution_count": null,
   "metadata": {
    "tags": [
     "hide-output"
    ]
   },
   "outputs": [],
   "source": [
    "# Create the test\n",
    "test.create()"
   ]
  },
  {
   "cell_type": "code",
   "execution_count": null,
   "metadata": {
    "scrolled": true,
    "tags": [
     "hide-output"
    ]
   },
   "outputs": [],
   "source": [
    "# Load it\n",
    "test.load()"
   ]
  },
  {
   "cell_type": "code",
   "execution_count": null,
   "metadata": {},
   "outputs": [],
   "source": [
    "# Check the devices\n",
    "test.devices"
   ]
  },
  {
   "cell_type": "code",
   "execution_count": null,
   "metadata": {},
   "outputs": [],
   "source": [
    "# Check the data\n",
    "test.devices['14638'].readings"
   ]
  },
  {
   "cell_type": "markdown",
   "metadata": {},
   "source": [
    "## Plotting data\n",
    "\n",
    "There are many options for plotting data. Here you can find some basic timeseries examples:"
   ]
  },
  {
   "cell_type": "code",
   "execution_count": null,
   "metadata": {},
   "outputs": [],
   "source": [
    "traces = {\n",
    "            \"1\": {\"devices\": \"all\",\n",
    "                  \"channel\": \"NOISE_A\",\n",
    "                  \"subplot\": 1},\n",
    "        }\n",
    "\n",
    "figure = test.ts_plot(traces = traces, \n",
    "                      options = {'frequency': '10Min', 'min_date': '2022-01'})"
   ]
  },
  {
   "cell_type": "code",
   "execution_count": null,
   "metadata": {
    "tags": [
     "remove-output"
    ]
   },
   "outputs": [],
   "source": [
    "traces = {\n",
    "            \"1\": {\"devices\": 'all',\n",
    "                  \"channel\": \"TEMP\",\n",
    "                  \"subplot\": 1},\n",
    "            \"2\": {\"devices\": 'all',\n",
    "                  \"channel\": \"NOISE_A\",\n",
    "                  \"subplot\": 2},\n",
    "        }\n",
    "\n",
    "height = 300\n",
    "\n",
    "f = test.ts_uplot(traces = traces, \n",
    "              formatting = {'width': height*2.5, \n",
    "                            'height': height, \n",
    "                            'padding-bottom': height,\n",
    "                            'title': 'Temperature', \n",
    "                            'ylabel': {1: 'Temperature (degC)',\n",
    "                                       2: 'Noise (dBA)'}\n",
    "                           }, \n",
    "              options = {'frequency': '10Min', 'html': False});\n"
   ]
  },
  {
   "cell_type": "code",
   "execution_count": null,
   "metadata": {},
   "outputs": [],
   "source": [
    "f"
   ]
  },
  {
   "cell_type": "markdown",
   "metadata": {},
   "source": [
    "```{seealso}\n",
    "For more examples, visit: https://github.com/fablabbcn/smartcitizen-data/blob/master/examples/notebooks/03_data_visualisation.ipynb\n",
    "```"
   ]
  },
  {
   "cell_type": "markdown",
   "metadata": {},
   "source": [
    "## Understanding blueprints\n",
    "\n",
    "Blueprints are ways of defining devices that include all the metadata necessary for that device, regarding units, processes needed to clean the data, file locations, even the documentation of the sensors. Blueprints data come from urls and are loaded while initialising the `scdata`. In the `~/.config/scdata/config.yaml` file more urls can be defined and can be accessed by:"
   ]
  },
  {
   "cell_type": "code",
   "execution_count": null,
   "metadata": {
    "tags": [
     "hide-output"
    ]
   },
   "outputs": [],
   "source": [
    "config.blueprints"
   ]
  },
  {
   "cell_type": "code",
   "execution_count": null,
   "metadata": {
    "scrolled": true,
    "tags": [
     "hide-output"
    ]
   },
   "outputs": [],
   "source": [
    "config.blueprints['sck_21']"
   ]
  },
  {
   "cell_type": "markdown",
   "metadata": {},
   "source": [
    "Each of the properties in a device is defined in it's blueprint. For instance, the sensors available. "
   ]
  },
  {
   "cell_type": "code",
   "execution_count": null,
   "metadata": {
    "scrolled": true,
    "tags": [
     "hide-output"
    ]
   },
   "outputs": [],
   "source": [
    "config.blueprints['sck_21']['sensors']"
   ]
  },
  {
   "cell_type": "markdown",
   "metadata": {},
   "source": [
    "In the case of devices coming from the SC platform, these sensors are defined based on [these definitions](https://api.smartcitizen.me/v0/kits), and are meant for traceability of the data, explaining what each device contains. For other devices, this has to be filled out manually."
   ]
  },
  {
   "cell_type": "markdown",
   "metadata": {},
   "source": [
    "The bluepring also contains the metrics (or processed channels) associated with the sensors. These metrics will be calculated once test.process() or device.process() are called"
   ]
  },
  {
   "cell_type": "code",
   "execution_count": null,
   "metadata": {
    "scrolled": true,
    "tags": [
     "hide-output"
    ]
   },
   "outputs": [],
   "source": [
    "config.blueprints['sck_21']['metrics']"
   ]
  },
  {
   "cell_type": "markdown",
   "metadata": {},
   "source": [
    "Finally, to add your own blueprint, you can add the url directly in the `config.yaml` file or by:"
   ]
  },
  {
   "cell_type": "code",
   "execution_count": null,
   "metadata": {},
   "outputs": [],
   "source": [
    "config.blueprints_urls.append('another_url')\n",
    "config.get_meta_data()"
   ]
  },
  {
   "cell_type": "markdown",
   "metadata": {},
   "source": [
    "## Data structure\n",
    "Here we show how the data is structured. A test contains devices, metadata and models (if created, see sensor_calibration_workflows.ipynb)\n",
    "\n",
    "First the tests:"
   ]
  },
  {
   "cell_type": "code",
   "execution_count": null,
   "metadata": {
    "tags": [
     "hide-output"
    ]
   },
   "outputs": [],
   "source": [
    "list(test.devices.keys())"
   ]
  },
  {
   "cell_type": "markdown",
   "metadata": {},
   "source": [
    "Then the data inside the devices is simply a pandas.DataFrame()"
   ]
  },
  {
   "cell_type": "code",
   "execution_count": null,
   "metadata": {},
   "outputs": [],
   "source": [
    "test.devices['14638'].readings.head(5)"
   ]
  },
  {
   "cell_type": "markdown",
   "metadata": {},
   "source": [
    "The test description information can be accessed and modified in the `test.descriptor` `dict()`. You can also access where the data is with `test.path`"
   ]
  },
  {
   "cell_type": "code",
   "execution_count": null,
   "metadata": {
    "scrolled": true,
    "tags": [
     "hide-output"
    ]
   },
   "outputs": [],
   "source": [
    "test.descriptor"
   ]
  },
  {
   "cell_type": "markdown",
   "metadata": {},
   "source": [
    "## Exporting data"
   ]
  },
  {
   "cell_type": "markdown",
   "metadata": {},
   "source": [
    "Finally, we can export the whole test as above (by default in the `test` directory) or just a device in a defined path"
   ]
  },
  {
   "cell_type": "code",
   "execution_count": null,
   "metadata": {},
   "outputs": [],
   "source": [
    "# test.devices['14638'].export(path ='~/Desktop')"
   ]
  },
  {
   "cell_type": "markdown",
   "metadata": {},
   "source": [
    "Export the data and test descriptor file"
   ]
  },
  {
   "cell_type": "code",
   "execution_count": null,
   "metadata": {
    "tags": [
     "remove-output"
    ]
   },
   "outputs": [],
   "source": [
    "test.to_html(title='Example');"
   ]
  },
  {
   "cell_type": "markdown",
   "metadata": {},
   "source": [
    "Or save the whole test in the default test processed folder with `test.to_csv()`"
   ]
  },
  {
   "cell_type": "code",
   "execution_count": null,
   "metadata": {},
   "outputs": [],
   "source": []
  }
 ],
 "metadata": {
  "kernelspec": {
   "display_name": "Python 3",
   "language": "python",
   "name": "python3"
  },
  "language_info": {
   "codemirror_mode": {
    "name": "ipython",
    "version": 3
   },
   "file_extension": ".py",
   "mimetype": "text/x-python",
   "name": "python",
   "nbconvert_exporter": "python",
   "pygments_lexer": "ipython3",
   "version": "3.9.9"
  },
  "toc-showtags": true
 },
 "nbformat": 4,
 "nbformat_minor": 4
}
